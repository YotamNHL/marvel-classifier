{
 "cells": [
  {
   "cell_type": "code",
   "execution_count": 1,
   "metadata": {
    "pycharm": {
     "name": "#%%\n"
    }
   },
   "outputs": [],
   "source": [
    "from utils.general_utils import *\n",
    "from sklearn.model_selection import train_test_split\n",
    "from catboost import CatBoostClassifier\n",
    "from utils.plot_utils import *\n",
    "from explainerdashboard import ClassifierExplainer, ExplainerDashboard"
   ]
  },
  {
   "cell_type": "markdown",
   "source": [
    "First, we explore the given data, which of course consists of character basic info, stats and super-powers."
   ],
   "metadata": {
    "collapsed": false,
    "pycharm": {
     "name": "#%% md\n"
    }
   }
  },
  {
   "cell_type": "code",
   "execution_count": 2,
   "outputs": [
    {
     "data": {
      "text/plain": "              Alignment_x  Gender EyeColor           Race HairColor  \\\nName                                                                  \nA-Bomb               good    Male   yellow          Human   No Hair   \nAbomination           bad    Male    green          Human   No Hair   \nAbraxas               bad    Male     blue  Cosmic Entity     Black   \nAbsorbing Man         bad    Male     blue          Human   No Hair   \nAgent 13             good  Female     blue   Unknown Race     Blond   \n\n                   Publisher SkinColor  Height  Weight  Intelligence  ...  \\\nName                                                                  ...   \nA-Bomb         Marvel Comics         -   203.0     441          38.0  ...   \nAbomination    Marvel Comics         -   203.0     441          63.0  ...   \nAbraxas        Marvel Comics         -   -99.0     -99          88.0  ...   \nAbsorbing Man  Marvel Comics         -   193.0     122           NaN  ...   \nAgent 13       Marvel Comics         -   173.0      61           NaN  ...   \n\n               Web Creation  Reality Warping  Odin Force  Symbiote Costume  \\\nName                                                                         \nA-Bomb                False            False       False             False   \nAbomination           False            False       False             False   \nAbraxas               False            False       False             False   \nAbsorbing Man         False            False       False             False   \nAgent 13                NaN              NaN         NaN               NaN   \n\n               Speed Force  Phoenix Force Molecular Dissipation Vision - Cryo  \\\nName                                                                            \nA-Bomb               False          False                 False         False   \nAbomination          False          False                 False         False   \nAbraxas              False          False                 False         False   \nAbsorbing Man        False          False                 False         False   \nAgent 13               NaN            NaN                   NaN           NaN   \n\n              Omnipresent Omniscient  \nName                                  \nA-Bomb              False      False  \nAbomination         False      False  \nAbraxas             False      False  \nAbsorbing Man       False      False  \nAgent 13              NaN        NaN  \n\n[5 rows x 183 columns]",
      "text/html": "<div>\n<style scoped>\n    .dataframe tbody tr th:only-of-type {\n        vertical-align: middle;\n    }\n\n    .dataframe tbody tr th {\n        vertical-align: top;\n    }\n\n    .dataframe thead th {\n        text-align: right;\n    }\n</style>\n<table border=\"1\" class=\"dataframe\">\n  <thead>\n    <tr style=\"text-align: right;\">\n      <th></th>\n      <th>Alignment_x</th>\n      <th>Gender</th>\n      <th>EyeColor</th>\n      <th>Race</th>\n      <th>HairColor</th>\n      <th>Publisher</th>\n      <th>SkinColor</th>\n      <th>Height</th>\n      <th>Weight</th>\n      <th>Intelligence</th>\n      <th>...</th>\n      <th>Web Creation</th>\n      <th>Reality Warping</th>\n      <th>Odin Force</th>\n      <th>Symbiote Costume</th>\n      <th>Speed Force</th>\n      <th>Phoenix Force</th>\n      <th>Molecular Dissipation</th>\n      <th>Vision - Cryo</th>\n      <th>Omnipresent</th>\n      <th>Omniscient</th>\n    </tr>\n    <tr>\n      <th>Name</th>\n      <th></th>\n      <th></th>\n      <th></th>\n      <th></th>\n      <th></th>\n      <th></th>\n      <th></th>\n      <th></th>\n      <th></th>\n      <th></th>\n      <th></th>\n      <th></th>\n      <th></th>\n      <th></th>\n      <th></th>\n      <th></th>\n      <th></th>\n      <th></th>\n      <th></th>\n      <th></th>\n      <th></th>\n    </tr>\n  </thead>\n  <tbody>\n    <tr>\n      <th>A-Bomb</th>\n      <td>good</td>\n      <td>Male</td>\n      <td>yellow</td>\n      <td>Human</td>\n      <td>No Hair</td>\n      <td>Marvel Comics</td>\n      <td>-</td>\n      <td>203.0</td>\n      <td>441</td>\n      <td>38.0</td>\n      <td>...</td>\n      <td>False</td>\n      <td>False</td>\n      <td>False</td>\n      <td>False</td>\n      <td>False</td>\n      <td>False</td>\n      <td>False</td>\n      <td>False</td>\n      <td>False</td>\n      <td>False</td>\n    </tr>\n    <tr>\n      <th>Abomination</th>\n      <td>bad</td>\n      <td>Male</td>\n      <td>green</td>\n      <td>Human</td>\n      <td>No Hair</td>\n      <td>Marvel Comics</td>\n      <td>-</td>\n      <td>203.0</td>\n      <td>441</td>\n      <td>63.0</td>\n      <td>...</td>\n      <td>False</td>\n      <td>False</td>\n      <td>False</td>\n      <td>False</td>\n      <td>False</td>\n      <td>False</td>\n      <td>False</td>\n      <td>False</td>\n      <td>False</td>\n      <td>False</td>\n    </tr>\n    <tr>\n      <th>Abraxas</th>\n      <td>bad</td>\n      <td>Male</td>\n      <td>blue</td>\n      <td>Cosmic Entity</td>\n      <td>Black</td>\n      <td>Marvel Comics</td>\n      <td>-</td>\n      <td>-99.0</td>\n      <td>-99</td>\n      <td>88.0</td>\n      <td>...</td>\n      <td>False</td>\n      <td>False</td>\n      <td>False</td>\n      <td>False</td>\n      <td>False</td>\n      <td>False</td>\n      <td>False</td>\n      <td>False</td>\n      <td>False</td>\n      <td>False</td>\n    </tr>\n    <tr>\n      <th>Absorbing Man</th>\n      <td>bad</td>\n      <td>Male</td>\n      <td>blue</td>\n      <td>Human</td>\n      <td>No Hair</td>\n      <td>Marvel Comics</td>\n      <td>-</td>\n      <td>193.0</td>\n      <td>122</td>\n      <td>NaN</td>\n      <td>...</td>\n      <td>False</td>\n      <td>False</td>\n      <td>False</td>\n      <td>False</td>\n      <td>False</td>\n      <td>False</td>\n      <td>False</td>\n      <td>False</td>\n      <td>False</td>\n      <td>False</td>\n    </tr>\n    <tr>\n      <th>Agent 13</th>\n      <td>good</td>\n      <td>Female</td>\n      <td>blue</td>\n      <td>Unknown Race</td>\n      <td>Blond</td>\n      <td>Marvel Comics</td>\n      <td>-</td>\n      <td>173.0</td>\n      <td>61</td>\n      <td>NaN</td>\n      <td>...</td>\n      <td>NaN</td>\n      <td>NaN</td>\n      <td>NaN</td>\n      <td>NaN</td>\n      <td>NaN</td>\n      <td>NaN</td>\n      <td>NaN</td>\n      <td>NaN</td>\n      <td>NaN</td>\n      <td>NaN</td>\n    </tr>\n  </tbody>\n</table>\n<p>5 rows × 183 columns</p>\n</div>"
     },
     "execution_count": 2,
     "metadata": {},
     "output_type": "execute_result"
    }
   ],
   "source": [
    "df = pd.read_csv('data/marvel_demo_stats_powers.csv').set_index(\"Name\").drop(['ID', 'Unnamed: 0'], axis=1)\n",
    "df.head()"
   ],
   "metadata": {
    "collapsed": false,
    "pycharm": {
     "name": "#%%\n"
    }
   }
  },
  {
   "cell_type": "markdown",
   "metadata": {
    "pycharm": {
     "name": "#%% md\n"
    }
   },
   "source": [
    "We can easily see that our data consists of 3 main types of features:\n",
    "      <br/> 1. Integers (the character's stats).\n",
    "      <br/> 2. Booleans (The superpowers drilldown).\n",
    "      <br/> 3. MultiCategorical features, which dictates the basic characteristics of each instance.\n",
    "      <br/> Now, lets clean all of the unnecessary columns:"
   ]
  },
  {
   "cell_type": "code",
   "execution_count": 3,
   "outputs": [
    {
     "data": {
      "text/plain": "              Alignment_x  Gender EyeColor           Race HairColor  Height  \\\nName                                                                          \nA-Bomb               good    Male   yellow          Human   No Hair   203.0   \nAbomination           bad    Male    green          Human   No Hair   203.0   \nAbraxas               bad    Male     blue  Cosmic Entity     Black   -99.0   \nAbsorbing Man         bad    Male     blue          Human   No Hair   193.0   \nAgent 13             good  Female     blue   Unknown Race     Blond   173.0   \n\n               Weight  Intelligence  Strength  Speed  ...  Web Creation  \\\nName                                                  ...                 \nA-Bomb            441          38.0     100.0   17.0  ...         False   \nAbomination       441          63.0      80.0   53.0  ...         False   \nAbraxas           -99          88.0     100.0   83.0  ...         False   \nAbsorbing Man     122           NaN       NaN    NaN  ...         False   \nAgent 13           61           NaN       NaN    NaN  ...           NaN   \n\n               Reality Warping  Odin Force  Symbiote Costume Speed Force  \\\nName                                                                       \nA-Bomb                   False       False             False       False   \nAbomination              False       False             False       False   \nAbraxas                  False       False             False       False   \nAbsorbing Man            False       False             False       False   \nAgent 13                   NaN         NaN               NaN         NaN   \n\n              Phoenix Force Molecular Dissipation Vision - Cryo Omnipresent  \\\nName                                                                          \nA-Bomb                False                 False         False       False   \nAbomination           False                 False         False       False   \nAbraxas               False                 False         False       False   \nAbsorbing Man         False                 False         False       False   \nAgent 13                NaN                   NaN           NaN         NaN   \n\n              Omniscient  \nName                      \nA-Bomb             False  \nAbomination        False  \nAbraxas            False  \nAbsorbing Man      False  \nAgent 13             NaN  \n\n[5 rows x 181 columns]",
      "text/html": "<div>\n<style scoped>\n    .dataframe tbody tr th:only-of-type {\n        vertical-align: middle;\n    }\n\n    .dataframe tbody tr th {\n        vertical-align: top;\n    }\n\n    .dataframe thead th {\n        text-align: right;\n    }\n</style>\n<table border=\"1\" class=\"dataframe\">\n  <thead>\n    <tr style=\"text-align: right;\">\n      <th></th>\n      <th>Alignment_x</th>\n      <th>Gender</th>\n      <th>EyeColor</th>\n      <th>Race</th>\n      <th>HairColor</th>\n      <th>Height</th>\n      <th>Weight</th>\n      <th>Intelligence</th>\n      <th>Strength</th>\n      <th>Speed</th>\n      <th>...</th>\n      <th>Web Creation</th>\n      <th>Reality Warping</th>\n      <th>Odin Force</th>\n      <th>Symbiote Costume</th>\n      <th>Speed Force</th>\n      <th>Phoenix Force</th>\n      <th>Molecular Dissipation</th>\n      <th>Vision - Cryo</th>\n      <th>Omnipresent</th>\n      <th>Omniscient</th>\n    </tr>\n    <tr>\n      <th>Name</th>\n      <th></th>\n      <th></th>\n      <th></th>\n      <th></th>\n      <th></th>\n      <th></th>\n      <th></th>\n      <th></th>\n      <th></th>\n      <th></th>\n      <th></th>\n      <th></th>\n      <th></th>\n      <th></th>\n      <th></th>\n      <th></th>\n      <th></th>\n      <th></th>\n      <th></th>\n      <th></th>\n      <th></th>\n    </tr>\n  </thead>\n  <tbody>\n    <tr>\n      <th>A-Bomb</th>\n      <td>good</td>\n      <td>Male</td>\n      <td>yellow</td>\n      <td>Human</td>\n      <td>No Hair</td>\n      <td>203.0</td>\n      <td>441</td>\n      <td>38.0</td>\n      <td>100.0</td>\n      <td>17.0</td>\n      <td>...</td>\n      <td>False</td>\n      <td>False</td>\n      <td>False</td>\n      <td>False</td>\n      <td>False</td>\n      <td>False</td>\n      <td>False</td>\n      <td>False</td>\n      <td>False</td>\n      <td>False</td>\n    </tr>\n    <tr>\n      <th>Abomination</th>\n      <td>bad</td>\n      <td>Male</td>\n      <td>green</td>\n      <td>Human</td>\n      <td>No Hair</td>\n      <td>203.0</td>\n      <td>441</td>\n      <td>63.0</td>\n      <td>80.0</td>\n      <td>53.0</td>\n      <td>...</td>\n      <td>False</td>\n      <td>False</td>\n      <td>False</td>\n      <td>False</td>\n      <td>False</td>\n      <td>False</td>\n      <td>False</td>\n      <td>False</td>\n      <td>False</td>\n      <td>False</td>\n    </tr>\n    <tr>\n      <th>Abraxas</th>\n      <td>bad</td>\n      <td>Male</td>\n      <td>blue</td>\n      <td>Cosmic Entity</td>\n      <td>Black</td>\n      <td>-99.0</td>\n      <td>-99</td>\n      <td>88.0</td>\n      <td>100.0</td>\n      <td>83.0</td>\n      <td>...</td>\n      <td>False</td>\n      <td>False</td>\n      <td>False</td>\n      <td>False</td>\n      <td>False</td>\n      <td>False</td>\n      <td>False</td>\n      <td>False</td>\n      <td>False</td>\n      <td>False</td>\n    </tr>\n    <tr>\n      <th>Absorbing Man</th>\n      <td>bad</td>\n      <td>Male</td>\n      <td>blue</td>\n      <td>Human</td>\n      <td>No Hair</td>\n      <td>193.0</td>\n      <td>122</td>\n      <td>NaN</td>\n      <td>NaN</td>\n      <td>NaN</td>\n      <td>...</td>\n      <td>False</td>\n      <td>False</td>\n      <td>False</td>\n      <td>False</td>\n      <td>False</td>\n      <td>False</td>\n      <td>False</td>\n      <td>False</td>\n      <td>False</td>\n      <td>False</td>\n    </tr>\n    <tr>\n      <th>Agent 13</th>\n      <td>good</td>\n      <td>Female</td>\n      <td>blue</td>\n      <td>Unknown Race</td>\n      <td>Blond</td>\n      <td>173.0</td>\n      <td>61</td>\n      <td>NaN</td>\n      <td>NaN</td>\n      <td>NaN</td>\n      <td>...</td>\n      <td>NaN</td>\n      <td>NaN</td>\n      <td>NaN</td>\n      <td>NaN</td>\n      <td>NaN</td>\n      <td>NaN</td>\n      <td>NaN</td>\n      <td>NaN</td>\n      <td>NaN</td>\n      <td>NaN</td>\n    </tr>\n  </tbody>\n</table>\n<p>5 rows × 181 columns</p>\n</div>"
     },
     "execution_count": 3,
     "metadata": {},
     "output_type": "execute_result"
    }
   ],
   "source": [
    "df = df.drop(['Publisher', 'SkinColor'], axis=1)\n",
    "df.head()"
   ],
   "metadata": {
    "collapsed": false,
    "pycharm": {
     "name": "#%%\n"
    }
   }
  },
  {
   "cell_type": "markdown",
   "source": [
    "I removed the publisher feature since all of the data is from the same comicbook publisher (Marvel).\n",
    "I removed SkinColor because this feature had way too much missing data to use here."
   ],
   "metadata": {
    "collapsed": false,
    "pycharm": {
     "name": "#%% md\n"
    }
   }
  },
  {
   "cell_type": "code",
   "execution_count": 4,
   "outputs": [
    {
     "data": {
      "text/plain": "No Hair           94\nBlack             85\nBlond             70\nBrown             65\nRed               25\nWhite             16\nGreen              6\nGrey               4\nBlue               3\nPurple             3\nSilver             2\nOrange             2\nblack              2\nOrange / White     1\nIndigo             1\nMagenta            1\nGold               1\nPink               1\nName: HairColor, dtype: int64"
     },
     "execution_count": 4,
     "metadata": {},
     "output_type": "execute_result"
    }
   ],
   "source": [
    "df = df.replace('-', 'no_value')\n",
    "df['HairColor'].value_counts()"
   ],
   "metadata": {
    "collapsed": false,
    "pycharm": {
     "name": "#%%\n"
    }
   }
  },
  {
   "cell_type": "markdown",
   "source": [
    "We see that we have many sparse possible values in the HairColor category,\n",
    "A possible solution to avoid that is to create a new value called 'other' and put\n",
    "these values under that umbrella (exept 'black' who should be the same as 'Black')."
   ],
   "metadata": {
    "collapsed": false,
    "pycharm": {
     "name": "#%% md\n"
    }
   }
  },
  {
   "cell_type": "code",
   "execution_count": 5,
   "outputs": [
    {
     "data": {
      "text/plain": "No Hair    94\nBlack      87\nBlond      70\nBrown      65\nRed        25\nOther      19\nWhite      16\nGreen       6\nName: HairColor, dtype: int64"
     },
     "execution_count": 5,
     "metadata": {},
     "output_type": "execute_result"
    }
   ],
   "source": [
    "haircolors_5_or_less = df['HairColor'].value_counts()\n",
    "haircolors_5_or_less = haircolors_5_or_less.loc[haircolors_5_or_less < 5].index.tolist()\n",
    "df['HairColor'] = df['HairColor'].apply(lambda x: \"Black\" if x == 'black' else 'Other' if x in haircolors_5_or_less else x)\n",
    "df['HairColor'].value_counts()"
   ],
   "metadata": {
    "collapsed": false,
    "pycharm": {
     "name": "#%%\n"
    }
   }
  },
  {
   "cell_type": "markdown",
   "metadata": {
    "pycharm": {
     "name": "#%% md\n"
    }
   },
   "source": [
    "Lets do the same with EyeColor:"
   ]
  },
  {
   "cell_type": "code",
   "execution_count": 6,
   "outputs": [
    {
     "data": {
      "text/plain": "blue                       124\nbrown                       87\nno_value                    47\ngreen                       40\nred                         31\nwhite                       13\nblack                       11\nyellow                      10\ngrey                         4\npurple                       2\nhazel                        2\ngold                         2\nyellow (without irises)      2\namber                        1\nsilver                       1\nyellow / blue                1\nwhite / red                  1\ngreen / blue                 1\nviolet                       1\nblue / white                 1\nName: EyeColor, dtype: int64"
     },
     "execution_count": 6,
     "metadata": {},
     "output_type": "execute_result"
    }
   ],
   "source": [
    "df['EyeColor'].value_counts()"
   ],
   "metadata": {
    "collapsed": false,
    "pycharm": {
     "name": "#%%\n"
    }
   }
  },
  {
   "cell_type": "code",
   "execution_count": 7,
   "outputs": [],
   "source": [
    "df['EyeColor'] = df['EyeColor'].apply(lambda x: 'green' if 'green' in x else 'blue' if 'blue' in x else 'yellow' if 'yellow' in x else 'white' if 'white' in x else x)"
   ],
   "metadata": {
    "collapsed": false,
    "pycharm": {
     "name": "#%%\n"
    }
   }
  },
  {
   "cell_type": "markdown",
   "source": [
    "I've consolidated some of the EyeColor values (such as green + green/blue).\n",
    "And now for the rest of the sparse values we can do exactly the same as we did with HairColor."
   ],
   "metadata": {
    "collapsed": false,
    "pycharm": {
     "name": "#%% md\n"
    }
   }
  },
  {
   "cell_type": "code",
   "execution_count": 8,
   "outputs": [
    {
     "data": {
      "text/plain": "blue      126\nbrown      87\nOther      60\ngreen      41\nred        31\nwhite      14\nyellow     12\nblack      11\nName: EyeColor, dtype: int64"
     },
     "execution_count": 8,
     "metadata": {},
     "output_type": "execute_result"
    }
   ],
   "source": [
    "eyecolors_5_or_less = df['EyeColor'].value_counts()\n",
    "eyecolors_5_or_less = eyecolors_5_or_less.loc[eyecolors_5_or_less < 5].index.tolist()\n",
    "eyecolors_5_or_less.append('no_value')\n",
    "df['EyeColor'] = df['EyeColor'].apply(lambda x: 'Other' if x in eyecolors_5_or_less else x)\n",
    "df['EyeColor'].value_counts()"
   ],
   "metadata": {
    "collapsed": false,
    "pycharm": {
     "name": "#%%\n"
    }
   }
  },
  {
   "cell_type": "markdown",
   "source": [
    "Lets do this one last time for the 'Race' column."
   ],
   "metadata": {
    "collapsed": false,
    "pycharm": {
     "name": "#%% md\n"
    }
   }
  },
  {
   "cell_type": "code",
   "execution_count": 9,
   "outputs": [
    {
     "data": {
      "text/plain": "Other            165\nHuman            107\nMutant            58\nSymbiote           9\nAlien              7\nRadiation          7\nAsgardian          6\nCosmic Entity      6\nCyborg             5\nGod / Eternal      4\nDemon              4\nInhuman            4\nName: Race, dtype: int64"
     },
     "execution_count": 9,
     "metadata": {},
     "output_type": "execute_result"
    }
   ],
   "source": [
    "race_3_or_less = df['Race'].value_counts()\n",
    "race_3_or_less = race_3_or_less.loc[race_3_or_less < 3].index.tolist()\n",
    "race_3_or_less.append('Unknown Race')\n",
    "df['Race'] = df['Race'].apply(lambda x: 'Other' if x in race_3_or_less else x)\n",
    "df['Race'].value_counts()"
   ],
   "metadata": {
    "collapsed": false,
    "pycharm": {
     "name": "#%%\n"
    }
   }
  },
  {
   "cell_type": "markdown",
   "source": [
    "\"Now that we have our data clean, we can finally dictate the class out of the alignment column (is good or evil).\n",
    "I've decided to label those who have no alignment value, or have a 'neutral' value, the same as bad value."
   ],
   "metadata": {
    "collapsed": false,
    "pycharm": {
     "name": "#%% md\n"
    }
   }
  },
  {
   "cell_type": "code",
   "execution_count": 10,
   "outputs": [
    {
     "data": {
      "text/plain": "               Gender EyeColor           Race HairColor  Height  Weight  \\\nName                                                                      \nA-Bomb           Male   yellow          Human   No Hair   203.0     441   \nAbomination      Male    green          Human   No Hair   203.0     441   \nAbraxas          Male     blue  Cosmic Entity     Black   -99.0     -99   \nAbsorbing Man    Male     blue          Human   No Hair   193.0     122   \nAgent 13       Female     blue          Other     Blond   173.0      61   \n\n               Intelligence  Strength  Speed  Durability  ...  \\\nName                                                      ...   \nA-Bomb                 38.0     100.0   17.0        80.0  ...   \nAbomination            63.0      80.0   53.0        90.0  ...   \nAbraxas                88.0     100.0   83.0        99.0  ...   \nAbsorbing Man           NaN       NaN    NaN         NaN  ...   \nAgent 13                NaN       NaN    NaN         NaN  ...   \n\n               Reality Warping  Odin Force  Symbiote Costume Speed Force  \\\nName                                                                       \nA-Bomb                   False       False             False       False   \nAbomination              False       False             False       False   \nAbraxas                  False       False             False       False   \nAbsorbing Man            False       False             False       False   \nAgent 13                   NaN         NaN               NaN         NaN   \n\n              Phoenix Force Molecular Dissipation Vision - Cryo Omnipresent  \\\nName                                                                          \nA-Bomb                False                 False         False       False   \nAbomination           False                 False         False       False   \nAbraxas               False                 False         False       False   \nAbsorbing Man         False                 False         False       False   \nAgent 13                NaN                   NaN           NaN         NaN   \n\n              Omniscient  class  \nName                             \nA-Bomb             False  False  \nAbomination        False   True  \nAbraxas            False   True  \nAbsorbing Man      False   True  \nAgent 13             NaN  False  \n\n[5 rows x 181 columns]",
      "text/html": "<div>\n<style scoped>\n    .dataframe tbody tr th:only-of-type {\n        vertical-align: middle;\n    }\n\n    .dataframe tbody tr th {\n        vertical-align: top;\n    }\n\n    .dataframe thead th {\n        text-align: right;\n    }\n</style>\n<table border=\"1\" class=\"dataframe\">\n  <thead>\n    <tr style=\"text-align: right;\">\n      <th></th>\n      <th>Gender</th>\n      <th>EyeColor</th>\n      <th>Race</th>\n      <th>HairColor</th>\n      <th>Height</th>\n      <th>Weight</th>\n      <th>Intelligence</th>\n      <th>Strength</th>\n      <th>Speed</th>\n      <th>Durability</th>\n      <th>...</th>\n      <th>Reality Warping</th>\n      <th>Odin Force</th>\n      <th>Symbiote Costume</th>\n      <th>Speed Force</th>\n      <th>Phoenix Force</th>\n      <th>Molecular Dissipation</th>\n      <th>Vision - Cryo</th>\n      <th>Omnipresent</th>\n      <th>Omniscient</th>\n      <th>class</th>\n    </tr>\n    <tr>\n      <th>Name</th>\n      <th></th>\n      <th></th>\n      <th></th>\n      <th></th>\n      <th></th>\n      <th></th>\n      <th></th>\n      <th></th>\n      <th></th>\n      <th></th>\n      <th></th>\n      <th></th>\n      <th></th>\n      <th></th>\n      <th></th>\n      <th></th>\n      <th></th>\n      <th></th>\n      <th></th>\n      <th></th>\n      <th></th>\n    </tr>\n  </thead>\n  <tbody>\n    <tr>\n      <th>A-Bomb</th>\n      <td>Male</td>\n      <td>yellow</td>\n      <td>Human</td>\n      <td>No Hair</td>\n      <td>203.0</td>\n      <td>441</td>\n      <td>38.0</td>\n      <td>100.0</td>\n      <td>17.0</td>\n      <td>80.0</td>\n      <td>...</td>\n      <td>False</td>\n      <td>False</td>\n      <td>False</td>\n      <td>False</td>\n      <td>False</td>\n      <td>False</td>\n      <td>False</td>\n      <td>False</td>\n      <td>False</td>\n      <td>False</td>\n    </tr>\n    <tr>\n      <th>Abomination</th>\n      <td>Male</td>\n      <td>green</td>\n      <td>Human</td>\n      <td>No Hair</td>\n      <td>203.0</td>\n      <td>441</td>\n      <td>63.0</td>\n      <td>80.0</td>\n      <td>53.0</td>\n      <td>90.0</td>\n      <td>...</td>\n      <td>False</td>\n      <td>False</td>\n      <td>False</td>\n      <td>False</td>\n      <td>False</td>\n      <td>False</td>\n      <td>False</td>\n      <td>False</td>\n      <td>False</td>\n      <td>True</td>\n    </tr>\n    <tr>\n      <th>Abraxas</th>\n      <td>Male</td>\n      <td>blue</td>\n      <td>Cosmic Entity</td>\n      <td>Black</td>\n      <td>-99.0</td>\n      <td>-99</td>\n      <td>88.0</td>\n      <td>100.0</td>\n      <td>83.0</td>\n      <td>99.0</td>\n      <td>...</td>\n      <td>False</td>\n      <td>False</td>\n      <td>False</td>\n      <td>False</td>\n      <td>False</td>\n      <td>False</td>\n      <td>False</td>\n      <td>False</td>\n      <td>False</td>\n      <td>True</td>\n    </tr>\n    <tr>\n      <th>Absorbing Man</th>\n      <td>Male</td>\n      <td>blue</td>\n      <td>Human</td>\n      <td>No Hair</td>\n      <td>193.0</td>\n      <td>122</td>\n      <td>NaN</td>\n      <td>NaN</td>\n      <td>NaN</td>\n      <td>NaN</td>\n      <td>...</td>\n      <td>False</td>\n      <td>False</td>\n      <td>False</td>\n      <td>False</td>\n      <td>False</td>\n      <td>False</td>\n      <td>False</td>\n      <td>False</td>\n      <td>False</td>\n      <td>True</td>\n    </tr>\n    <tr>\n      <th>Agent 13</th>\n      <td>Female</td>\n      <td>blue</td>\n      <td>Other</td>\n      <td>Blond</td>\n      <td>173.0</td>\n      <td>61</td>\n      <td>NaN</td>\n      <td>NaN</td>\n      <td>NaN</td>\n      <td>NaN</td>\n      <td>...</td>\n      <td>NaN</td>\n      <td>NaN</td>\n      <td>NaN</td>\n      <td>NaN</td>\n      <td>NaN</td>\n      <td>NaN</td>\n      <td>NaN</td>\n      <td>NaN</td>\n      <td>NaN</td>\n      <td>False</td>\n    </tr>\n  </tbody>\n</table>\n<p>5 rows × 181 columns</p>\n</div>"
     },
     "execution_count": 10,
     "metadata": {},
     "output_type": "execute_result"
    }
   ],
   "source": [
    "df['class'] = df['Alignment_x'].apply(lambda x: True if x in ['bad', 'neutral', '-'] else False)\n",
    "df = df.drop('Alignment_x', axis=1)\n",
    "df.head()"
   ],
   "metadata": {
    "collapsed": false,
    "pycharm": {
     "name": "#%%\n"
    }
   }
  },
  {
   "cell_type": "markdown",
   "metadata": {
    "pycharm": {
     "name": "#%% md\n"
    }
   },
   "source": [
    "From the context of the material we're working with, I can suggest that a big chunk of the good superheros tend to be human, mutant, or usually with blue eyes.\n",
    "Because of that, I've decided to extract this information as unique boolean columns.\n"
   ]
  },
  {
   "cell_type": "code",
   "execution_count": 11,
   "outputs": [
    {
     "data": {
      "text/plain": "               Gender EyeColor           Race HairColor  Height  Weight  \\\nName                                                                      \nA-Bomb           Male   yellow          Human   No Hair   203.0     441   \nAbomination      Male    green          Human   No Hair   203.0     441   \nAbraxas          Male     blue  Cosmic Entity     Black   -99.0     -99   \nAbsorbing Man    Male     blue          Human   No Hair   193.0     122   \nAgent 13       Female     blue          Other     Blond   173.0      61   \n\n               Intelligence  Strength  Speed  Durability  ...  \\\nName                                                      ...   \nA-Bomb                 38.0     100.0   17.0        80.0  ...   \nAbomination            63.0      80.0   53.0        90.0  ...   \nAbraxas                88.0     100.0   83.0        99.0  ...   \nAbsorbing Man           NaN       NaN    NaN         NaN  ...   \nAgent 13                NaN       NaN    NaN         NaN  ...   \n\n               Symbiote Costume  Speed Force  Phoenix Force  \\\nName                                                          \nA-Bomb                    False        False          False   \nAbomination               False        False          False   \nAbraxas                   False        False          False   \nAbsorbing Man             False        False          False   \nAgent 13                    NaN          NaN            NaN   \n\n              Molecular Dissipation Vision - Cryo Omnipresent Omniscient  \\\nName                                                                       \nA-Bomb                        False         False       False      False   \nAbomination                   False         False       False      False   \nAbraxas                       False         False       False      False   \nAbsorbing Man                 False         False       False      False   \nAgent 13                        NaN           NaN         NaN        NaN   \n\n               class is_mutant has_blue_eyes  \nName                                          \nA-Bomb         False     False         False  \nAbomination     True     False         False  \nAbraxas         True     False          True  \nAbsorbing Man   True     False          True  \nAgent 13       False     False          True  \n\n[5 rows x 183 columns]",
      "text/html": "<div>\n<style scoped>\n    .dataframe tbody tr th:only-of-type {\n        vertical-align: middle;\n    }\n\n    .dataframe tbody tr th {\n        vertical-align: top;\n    }\n\n    .dataframe thead th {\n        text-align: right;\n    }\n</style>\n<table border=\"1\" class=\"dataframe\">\n  <thead>\n    <tr style=\"text-align: right;\">\n      <th></th>\n      <th>Gender</th>\n      <th>EyeColor</th>\n      <th>Race</th>\n      <th>HairColor</th>\n      <th>Height</th>\n      <th>Weight</th>\n      <th>Intelligence</th>\n      <th>Strength</th>\n      <th>Speed</th>\n      <th>Durability</th>\n      <th>...</th>\n      <th>Symbiote Costume</th>\n      <th>Speed Force</th>\n      <th>Phoenix Force</th>\n      <th>Molecular Dissipation</th>\n      <th>Vision - Cryo</th>\n      <th>Omnipresent</th>\n      <th>Omniscient</th>\n      <th>class</th>\n      <th>is_mutant</th>\n      <th>has_blue_eyes</th>\n    </tr>\n    <tr>\n      <th>Name</th>\n      <th></th>\n      <th></th>\n      <th></th>\n      <th></th>\n      <th></th>\n      <th></th>\n      <th></th>\n      <th></th>\n      <th></th>\n      <th></th>\n      <th></th>\n      <th></th>\n      <th></th>\n      <th></th>\n      <th></th>\n      <th></th>\n      <th></th>\n      <th></th>\n      <th></th>\n      <th></th>\n      <th></th>\n    </tr>\n  </thead>\n  <tbody>\n    <tr>\n      <th>A-Bomb</th>\n      <td>Male</td>\n      <td>yellow</td>\n      <td>Human</td>\n      <td>No Hair</td>\n      <td>203.0</td>\n      <td>441</td>\n      <td>38.0</td>\n      <td>100.0</td>\n      <td>17.0</td>\n      <td>80.0</td>\n      <td>...</td>\n      <td>False</td>\n      <td>False</td>\n      <td>False</td>\n      <td>False</td>\n      <td>False</td>\n      <td>False</td>\n      <td>False</td>\n      <td>False</td>\n      <td>False</td>\n      <td>False</td>\n    </tr>\n    <tr>\n      <th>Abomination</th>\n      <td>Male</td>\n      <td>green</td>\n      <td>Human</td>\n      <td>No Hair</td>\n      <td>203.0</td>\n      <td>441</td>\n      <td>63.0</td>\n      <td>80.0</td>\n      <td>53.0</td>\n      <td>90.0</td>\n      <td>...</td>\n      <td>False</td>\n      <td>False</td>\n      <td>False</td>\n      <td>False</td>\n      <td>False</td>\n      <td>False</td>\n      <td>False</td>\n      <td>True</td>\n      <td>False</td>\n      <td>False</td>\n    </tr>\n    <tr>\n      <th>Abraxas</th>\n      <td>Male</td>\n      <td>blue</td>\n      <td>Cosmic Entity</td>\n      <td>Black</td>\n      <td>-99.0</td>\n      <td>-99</td>\n      <td>88.0</td>\n      <td>100.0</td>\n      <td>83.0</td>\n      <td>99.0</td>\n      <td>...</td>\n      <td>False</td>\n      <td>False</td>\n      <td>False</td>\n      <td>False</td>\n      <td>False</td>\n      <td>False</td>\n      <td>False</td>\n      <td>True</td>\n      <td>False</td>\n      <td>True</td>\n    </tr>\n    <tr>\n      <th>Absorbing Man</th>\n      <td>Male</td>\n      <td>blue</td>\n      <td>Human</td>\n      <td>No Hair</td>\n      <td>193.0</td>\n      <td>122</td>\n      <td>NaN</td>\n      <td>NaN</td>\n      <td>NaN</td>\n      <td>NaN</td>\n      <td>...</td>\n      <td>False</td>\n      <td>False</td>\n      <td>False</td>\n      <td>False</td>\n      <td>False</td>\n      <td>False</td>\n      <td>False</td>\n      <td>True</td>\n      <td>False</td>\n      <td>True</td>\n    </tr>\n    <tr>\n      <th>Agent 13</th>\n      <td>Female</td>\n      <td>blue</td>\n      <td>Other</td>\n      <td>Blond</td>\n      <td>173.0</td>\n      <td>61</td>\n      <td>NaN</td>\n      <td>NaN</td>\n      <td>NaN</td>\n      <td>NaN</td>\n      <td>...</td>\n      <td>NaN</td>\n      <td>NaN</td>\n      <td>NaN</td>\n      <td>NaN</td>\n      <td>NaN</td>\n      <td>NaN</td>\n      <td>NaN</td>\n      <td>False</td>\n      <td>False</td>\n      <td>True</td>\n    </tr>\n  </tbody>\n</table>\n<p>5 rows × 183 columns</p>\n</div>"
     },
     "execution_count": 11,
     "metadata": {},
     "output_type": "execute_result"
    }
   ],
   "source": [
    "df['is_mutant'] = df['Race'].apply(lambda x: True if 'Mutant' in x else False)\n",
    "df['has_blue_eyes'] = df['EyeColor'].apply(lambda x: True if x == 'blue' else False)\n",
    "df.head()\n"
   ],
   "metadata": {
    "collapsed": false,
    "pycharm": {
     "name": "#%%df['is_human'] = df['Race'].apply(lambda x: True if 'Human' in x else False)\n"
    }
   }
  },
  {
   "cell_type": "markdown",
   "metadata": {
    "pycharm": {
     "name": "#%% md\n"
    }
   },
   "source": [
    "For next references in the code, lets extract (and separate by type) all of the columns"
   ]
  },
  {
   "cell_type": "code",
   "execution_count": 12,
   "outputs": [],
   "source": [
    "cols = list(df.columns)\n",
    "cat_cols = ['Gender', 'EyeColor', 'Race', 'HairColor']\n",
    "int_cols = ['Height', 'Weight', 'Intelligence', 'Strength', 'Speed', 'Durability', 'Power', 'Combat', 'Total']\n",
    "bool_cols = [x for x in cols if (x not in cat_cols and x not in int_cols)]"
   ],
   "metadata": {
    "collapsed": false,
    "pycharm": {
     "name": "#%%\n"
    }
   }
  },
  {
   "cell_type": "markdown",
   "source": [
    "Also, lets quickly fill/fix the empty values in each column."
   ],
   "metadata": {
    "collapsed": false,
    "pycharm": {
     "name": "#%% md\n"
    }
   }
  },
  {
   "cell_type": "code",
   "execution_count": 13,
   "outputs": [
    {
     "data": {
      "text/plain": "               Gender EyeColor           Race HairColor  Height  Weight  \\\nName                                                                      \nA-Bomb           Male   yellow          Human   No Hair   203.0     441   \nAbomination      Male    green          Human   No Hair   203.0     441   \nAbraxas          Male     blue  Cosmic Entity     Black   -99.0     -99   \nAbsorbing Man    Male     blue          Human   No Hair   193.0     122   \nAgent 13       Female     blue          Other     Blond   173.0      61   \n\n               Intelligence  Strength  Speed  Durability  ...  \\\nName                                                      ...   \nA-Bomb                 38.0     100.0   17.0        80.0  ...   \nAbomination            63.0      80.0   53.0        90.0  ...   \nAbraxas                88.0     100.0   83.0        99.0  ...   \nAbsorbing Man           0.0       0.0    0.0         0.0  ...   \nAgent 13                0.0       0.0    0.0         0.0  ...   \n\n               Symbiote Costume  Speed Force  Phoenix Force  \\\nName                                                          \nA-Bomb                    False        False          False   \nAbomination               False        False          False   \nAbraxas                   False        False          False   \nAbsorbing Man             False        False          False   \nAgent 13                  False        False          False   \n\n               Molecular Dissipation  Vision - Cryo  Omnipresent  Omniscient  \\\nName                                                                           \nA-Bomb                         False          False        False       False   \nAbomination                    False          False        False       False   \nAbraxas                        False          False        False       False   \nAbsorbing Man                  False          False        False       False   \nAgent 13                       False          False        False       False   \n\n               class  is_mutant  has_blue_eyes  \nName                                            \nA-Bomb         False      False          False  \nAbomination     True      False          False  \nAbraxas         True      False           True  \nAbsorbing Man   True      False           True  \nAgent 13       False      False           True  \n\n[5 rows x 183 columns]",
      "text/html": "<div>\n<style scoped>\n    .dataframe tbody tr th:only-of-type {\n        vertical-align: middle;\n    }\n\n    .dataframe tbody tr th {\n        vertical-align: top;\n    }\n\n    .dataframe thead th {\n        text-align: right;\n    }\n</style>\n<table border=\"1\" class=\"dataframe\">\n  <thead>\n    <tr style=\"text-align: right;\">\n      <th></th>\n      <th>Gender</th>\n      <th>EyeColor</th>\n      <th>Race</th>\n      <th>HairColor</th>\n      <th>Height</th>\n      <th>Weight</th>\n      <th>Intelligence</th>\n      <th>Strength</th>\n      <th>Speed</th>\n      <th>Durability</th>\n      <th>...</th>\n      <th>Symbiote Costume</th>\n      <th>Speed Force</th>\n      <th>Phoenix Force</th>\n      <th>Molecular Dissipation</th>\n      <th>Vision - Cryo</th>\n      <th>Omnipresent</th>\n      <th>Omniscient</th>\n      <th>class</th>\n      <th>is_mutant</th>\n      <th>has_blue_eyes</th>\n    </tr>\n    <tr>\n      <th>Name</th>\n      <th></th>\n      <th></th>\n      <th></th>\n      <th></th>\n      <th></th>\n      <th></th>\n      <th></th>\n      <th></th>\n      <th></th>\n      <th></th>\n      <th></th>\n      <th></th>\n      <th></th>\n      <th></th>\n      <th></th>\n      <th></th>\n      <th></th>\n      <th></th>\n      <th></th>\n      <th></th>\n      <th></th>\n    </tr>\n  </thead>\n  <tbody>\n    <tr>\n      <th>A-Bomb</th>\n      <td>Male</td>\n      <td>yellow</td>\n      <td>Human</td>\n      <td>No Hair</td>\n      <td>203.0</td>\n      <td>441</td>\n      <td>38.0</td>\n      <td>100.0</td>\n      <td>17.0</td>\n      <td>80.0</td>\n      <td>...</td>\n      <td>False</td>\n      <td>False</td>\n      <td>False</td>\n      <td>False</td>\n      <td>False</td>\n      <td>False</td>\n      <td>False</td>\n      <td>False</td>\n      <td>False</td>\n      <td>False</td>\n    </tr>\n    <tr>\n      <th>Abomination</th>\n      <td>Male</td>\n      <td>green</td>\n      <td>Human</td>\n      <td>No Hair</td>\n      <td>203.0</td>\n      <td>441</td>\n      <td>63.0</td>\n      <td>80.0</td>\n      <td>53.0</td>\n      <td>90.0</td>\n      <td>...</td>\n      <td>False</td>\n      <td>False</td>\n      <td>False</td>\n      <td>False</td>\n      <td>False</td>\n      <td>False</td>\n      <td>False</td>\n      <td>True</td>\n      <td>False</td>\n      <td>False</td>\n    </tr>\n    <tr>\n      <th>Abraxas</th>\n      <td>Male</td>\n      <td>blue</td>\n      <td>Cosmic Entity</td>\n      <td>Black</td>\n      <td>-99.0</td>\n      <td>-99</td>\n      <td>88.0</td>\n      <td>100.0</td>\n      <td>83.0</td>\n      <td>99.0</td>\n      <td>...</td>\n      <td>False</td>\n      <td>False</td>\n      <td>False</td>\n      <td>False</td>\n      <td>False</td>\n      <td>False</td>\n      <td>False</td>\n      <td>True</td>\n      <td>False</td>\n      <td>True</td>\n    </tr>\n    <tr>\n      <th>Absorbing Man</th>\n      <td>Male</td>\n      <td>blue</td>\n      <td>Human</td>\n      <td>No Hair</td>\n      <td>193.0</td>\n      <td>122</td>\n      <td>0.0</td>\n      <td>0.0</td>\n      <td>0.0</td>\n      <td>0.0</td>\n      <td>...</td>\n      <td>False</td>\n      <td>False</td>\n      <td>False</td>\n      <td>False</td>\n      <td>False</td>\n      <td>False</td>\n      <td>False</td>\n      <td>True</td>\n      <td>False</td>\n      <td>True</td>\n    </tr>\n    <tr>\n      <th>Agent 13</th>\n      <td>Female</td>\n      <td>blue</td>\n      <td>Other</td>\n      <td>Blond</td>\n      <td>173.0</td>\n      <td>61</td>\n      <td>0.0</td>\n      <td>0.0</td>\n      <td>0.0</td>\n      <td>0.0</td>\n      <td>...</td>\n      <td>False</td>\n      <td>False</td>\n      <td>False</td>\n      <td>False</td>\n      <td>False</td>\n      <td>False</td>\n      <td>False</td>\n      <td>False</td>\n      <td>False</td>\n      <td>True</td>\n    </tr>\n  </tbody>\n</table>\n<p>5 rows × 183 columns</p>\n</div>"
     },
     "execution_count": 13,
     "metadata": {},
     "output_type": "execute_result"
    }
   ],
   "source": [
    "df[cat_cols] = df[cat_cols].fillna(value='no_value')\n",
    "df[int_cols] = df[int_cols].fillna(value=0)\n",
    "df[bool_cols] = df[bool_cols].fillna(value=False)\n",
    "df.head()"
   ],
   "metadata": {
    "collapsed": false,
    "pycharm": {
     "name": "#%%\n"
    }
   }
  },
  {
   "cell_type": "markdown",
   "metadata": {
    "pycharm": {
     "name": "#%% md\n"
    }
   },
   "source": [
    "The last feature we'll add before injecting the data into a categories-considering model, is the amount of different superpowers for each character."
   ]
  },
  {
   "cell_type": "code",
   "execution_count": 14,
   "outputs": [
    {
     "ename": "ValueError",
     "evalue": "list.remove(x): x not in list",
     "output_type": "error",
     "traceback": [
      "\u001B[0;31m---------------------------------------------------------------------------\u001B[0m",
      "\u001B[0;31mValueError\u001B[0m                                Traceback (most recent call last)",
      "\u001B[0;32m<ipython-input-14-92cbd70339af>\u001B[0m in \u001B[0;36m<module>\u001B[0;34m\u001B[0m\n\u001B[1;32m      1\u001B[0m \u001B[0msuperpowers_cols\u001B[0m \u001B[0;34m=\u001B[0m \u001B[0mbool_cols\u001B[0m\u001B[0;34m\u001B[0m\u001B[0;34m\u001B[0m\u001B[0m\n\u001B[1;32m      2\u001B[0m \u001B[0;32mfor\u001B[0m \u001B[0mcol\u001B[0m \u001B[0;32min\u001B[0m \u001B[0;34m[\u001B[0m\u001B[0;34m'is_human'\u001B[0m\u001B[0;34m,\u001B[0m \u001B[0;34m'is_mutant'\u001B[0m\u001B[0;34m,\u001B[0m \u001B[0;34m'has_blue_eyes'\u001B[0m\u001B[0;34m]\u001B[0m\u001B[0;34m:\u001B[0m\u001B[0;34m\u001B[0m\u001B[0;34m\u001B[0m\u001B[0m\n\u001B[0;32m----> 3\u001B[0;31m     \u001B[0msuperpowers_cols\u001B[0m\u001B[0;34m.\u001B[0m\u001B[0mremove\u001B[0m\u001B[0;34m(\u001B[0m\u001B[0mcol\u001B[0m\u001B[0;34m)\u001B[0m\u001B[0;34m\u001B[0m\u001B[0;34m\u001B[0m\u001B[0m\n\u001B[0m\u001B[1;32m      4\u001B[0m \u001B[0;34m\u001B[0m\u001B[0m\n\u001B[1;32m      5\u001B[0m \u001B[0mdf\u001B[0m\u001B[0;34m[\u001B[0m\u001B[0;34m'amount_of_superpowers'\u001B[0m\u001B[0;34m]\u001B[0m \u001B[0;34m=\u001B[0m \u001B[0mdf\u001B[0m\u001B[0;34m[\u001B[0m\u001B[0mbool_cols\u001B[0m\u001B[0;34m]\u001B[0m\u001B[0;34m.\u001B[0m\u001B[0mastype\u001B[0m\u001B[0;34m(\u001B[0m\u001B[0mint\u001B[0m\u001B[0;34m)\u001B[0m\u001B[0;34m.\u001B[0m\u001B[0msum\u001B[0m\u001B[0;34m(\u001B[0m\u001B[0maxis\u001B[0m\u001B[0;34m=\u001B[0m\u001B[0;36m1\u001B[0m\u001B[0;34m)\u001B[0m\u001B[0;34m\u001B[0m\u001B[0;34m\u001B[0m\u001B[0m\n",
      "\u001B[0;31mValueError\u001B[0m: list.remove(x): x not in list"
     ]
    }
   ],
   "source": [
    "superpowers_cols = bool_cols\n",
    "for col in ['is_human', 'is_mutant', 'has_blue_eyes']:\n",
    "    superpowers_cols.remove(col)\n",
    "\n",
    "df['amount_of_superpowers'] = df[bool_cols].astype(int).sum(axis=1)\n",
    "df.head()\n"
   ],
   "metadata": {
    "collapsed": false,
    "pycharm": {
     "name": "#%%\n"
    }
   }
  },
  {
   "cell_type": "markdown",
   "metadata": {
    "pycharm": {
     "name": "#%% md\n"
    }
   },
   "source": [
    "cast int cols to int type."
   ]
  },
  {
   "cell_type": "code",
   "execution_count": null,
   "outputs": [],
   "source": [
    "for col in int_cols:\n",
    "    df[col] = df[col].astype(int)\n"
   ],
   "metadata": {
    "collapsed": false,
    "pycharm": {
     "name": "#%%\n"
    }
   }
  },
  {
   "cell_type": "markdown",
   "metadata": {
    "pycharm": {
     "name": "#%% md\n"
    }
   },
   "source": [
    "Our data is ready for the model, we can now seperate it to X and Y."
   ]
  },
  {
   "cell_type": "code",
   "execution_count": null,
   "outputs": [],
   "source": [
    "df = df.reset_index()\n",
    "X, y = df.copy().drop('class', axis=1), df.copy()['class']"
   ],
   "metadata": {
    "collapsed": false,
    "pycharm": {
     "name": "#%%\n"
    }
   }
  },
  {
   "cell_type": "code",
   "execution_count": null,
   "metadata": {
    "pycharm": {
     "name": "#%%\n"
    }
   },
   "outputs": [],
   "source": [
    "# Model init\n",
    "cbc = CatBoostClassifier(cat_features=get_cat_feature_names(X), class_weights=[0.33, 0.67], random_state=5,\n",
    "                         bootstrap_type='Bayesian', rsm=0.1, verbose=0)\n",
    "evaluation = Evaluation()"
   ]
  },
  {
   "cell_type": "markdown",
   "source": [
    "Notice the following:\n",
    " 1. we're using a simple homemade function to extract the categorical features, but we could've used the list we prepared earlier.\n",
    " 2. The class weights are in inverse proportion to the class values, as it should.\n",
    " 3. I've chosen the other hyperparameters after testing several for this model.\n",
    "Lets use the following homemade method to fit and also use stratified k-fold to see the performance:"
   ],
   "metadata": {
    "collapsed": false,
    "pycharm": {
     "name": "#%% md\n"
    }
   }
  },
  {
   "cell_type": "code",
   "execution_count": null,
   "outputs": [],
   "source": [
    "feature_importance = evaluation.plot_cv_precision_recall(cbc, n_folds=5, n_repeats=1, X=X, y=y, random_state=0)"
   ],
   "metadata": {
    "collapsed": false,
    "pycharm": {
     "name": "#%%\n"
    }
   }
  },
  {
   "cell_type": "markdown",
   "source": [
    "Interesting results, this is a definite improvement over a 'lucky' guess.\n",
    "Lets check the feature importance as well:"
   ],
   "metadata": {
    "collapsed": false,
    "pycharm": {
     "name": "#%% md\n"
    }
   }
  },
  {
   "cell_type": "code",
   "execution_count": null,
   "outputs": [],
   "source": [
    "evaluation.plot_feature_importance(feature_importance, n_features_to_show=50)"
   ],
   "metadata": {
    "collapsed": false,
    "pycharm": {
     "name": "#%%\n"
    }
   }
  },
  {
   "cell_type": "markdown",
   "source": [
    "Cool to see our engineered feature 'amount_of_superpowers' is at the top.\n",
    "<br/> Also, interestingly enough, all of our categorical features are at the top as well.\n",
    "<br/> Since we know our end goal is to create a character creator, I'd prefer to get rid of all features that don't help the model too much if any at all.\n",
    "<br/> The main reason for that is to make the layout of the UI + the process itself as clean and simple as possible, without harming the performance."
   ],
   "metadata": {
    "collapsed": false,
    "pycharm": {
     "name": "#%% md\n"
    }
   }
  },
  {
   "cell_type": "code",
   "execution_count": null,
   "metadata": {
    "pycharm": {
     "name": "#%%\n"
    }
   },
   "outputs": [],
   "source": [
    "top_features_and_class = [\n",
    "        # categorical features\n",
    "        'Gender',\n",
    "        'HairColor',\n",
    "        'EyeColor',\n",
    "        'Race',\n",
    "        # int features\n",
    "        'Strength',\n",
    "        'Speed',\n",
    "        'Durability',\n",
    "        'Power',\n",
    "        'Combat',\n",
    "        'Intelligence',\n",
    "        'Height',\n",
    "        'Weight',\n",
    "        'Total',\n",
    "        'amount_of_superpowers',\n",
    "        # Boolean features\n",
    "        'Super Strength',\n",
    "        'Stamina',\n",
    "        'Stealth',\n",
    "        'Enhanced Senses',\n",
    "        'Flight',\n",
    "        'Energy Blasts',\n",
    "        'Energy Absorption',\n",
    "        'Shapeshifting',\n",
    "        'Accelerated Healing',\n",
    "        'Force Fields',\n",
    "        'Psionic Powers',\n",
    "        'Weapon-based Powers',\n",
    "        'Energy Manipulation',\n",
    "        'Reflexes',\n",
    "        'Molecular Manipulation',\n",
    "        'Super Durability',\n",
    "        'Agility',\n",
    "        'Longevity',\n",
    "        'Super Speed',\n",
    "        'is_human',\n",
    "        'is_mutant',\n",
    "        'has_blue_eyes',\n",
    "        'class']\n",
    "df = df.loc[:, top_features_and_class]\n",
    "X, y = df.drop('class', axis=1), df['class']\n",
    "cbc = CatBoostClassifier(cat_features=get_cat_feature_names(X), class_weights=[0.33, 0.67], random_state=5,\n",
    "                         bootstrap_type='Bayesian', rsm=0.1, verbose=0)\n",
    "feature_importance = evaluation.plot_cv_precision_recall(cbc, n_folds=5, n_repeats=1, X=X, y=y, random_state=0)"
   ]
  },
  {
   "cell_type": "markdown",
   "source": [
    "We even achieved somewhat higher accuracy. now lets explore the feature importance now:"
   ],
   "metadata": {
    "collapsed": false,
    "pycharm": {
     "name": "#%% md\n"
    }
   }
  },
  {
   "cell_type": "code",
   "execution_count": null,
   "outputs": [],
   "source": [
    "evaluation.plot_feature_importance(feature_importance, n_features_to_show=50)"
   ],
   "metadata": {
    "collapsed": false,
    "pycharm": {
     "name": "#%%\n"
    }
   }
  },
  {
   "cell_type": "markdown",
   "source": [
    "For further performance exploring and feature engineering, I've used the following helpful explainerdashboard package:"
   ],
   "metadata": {
    "collapsed": false,
    "pycharm": {
     "name": "#%% md\n"
    }
   }
  },
  {
   "cell_type": "code",
   "execution_count": null,
   "outputs": [],
   "source": [
    "X_train, X_test, y_train, y_test = train_test_split(X, y, test_size=0.3, random_state=42)\n",
    "cbc.fit(X_train, y_train)\n",
    "explainer = ClassifierExplainer(cbc, X_test, y_test)\n",
    "ExplainerDashboard(explainer, simple=True).run()\n",
    "\n",
    "\n",
    "\n"
   ],
   "metadata": {
    "collapsed": false,
    "pycharm": {
     "name": "#%%\n"
    }
   }
  },
  {
   "cell_type": "code",
   "execution_count": 20,
   "outputs": [
    {
     "data": {
      "text/plain": "Other            165\nHuman            107\nMutant            58\nSymbiote           9\nAlien              7\nRadiation          7\nAsgardian          6\nCosmic Entity      6\nCyborg             5\nGod / Eternal      4\nDemon              4\nInhuman            4\nName: Race, dtype: int64"
     },
     "execution_count": 20,
     "metadata": {},
     "output_type": "execute_result"
    }
   ],
   "source": [
    "df['Race'].value_counts()"
   ],
   "metadata": {
    "collapsed": false,
    "pycharm": {
     "name": "#%%\n"
    }
   }
  },
  {
   "cell_type": "code",
   "execution_count": null,
   "outputs": [],
   "source": [],
   "metadata": {
    "collapsed": false,
    "pycharm": {
     "name": "#%%\n"
    }
   }
  }
 ],
 "metadata": {
  "kernelspec": {
   "display_name": "Python 3",
   "language": "python",
   "name": "python3"
  },
  "language_info": {
   "codemirror_mode": {
    "name": "ipython",
    "version": 3
   },
   "file_extension": ".py",
   "mimetype": "text/x-python",
   "name": "python",
   "nbconvert_exporter": "python",
   "pygments_lexer": "ipython3",
   "version": "3.8.2"
  },
  "varInspector": {
   "cols": {
    "lenName": 16,
    "lenType": 16,
    "lenVar": 40
   },
   "kernels_config": {
    "python": {
     "delete_cmd_postfix": "",
     "delete_cmd_prefix": "del ",
     "library": "var_list.py",
     "varRefreshCmd": "print(var_dic_list())"
    },
    "r": {
     "delete_cmd_postfix": ") ",
     "delete_cmd_prefix": "rm(",
     "library": "var_list.r",
     "varRefreshCmd": "cat(var_dic_list()) "
    }
   },
   "types_to_exclude": [
    "module",
    "function",
    "builtin_function_or_method",
    "instance",
    "_Feature"
   ],
   "window_display": false
  }
 },
 "nbformat": 4,
 "nbformat_minor": 1
}